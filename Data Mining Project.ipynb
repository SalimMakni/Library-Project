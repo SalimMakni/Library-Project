{
 "cells": [
  {
   "cell_type": "markdown",
   "metadata": {
    "id": "cnh8bxMoq1KU"
   },
   "source": [
    "## **Fouille de données (2024-2025)**\n",
    "\n",
    "### **Travaux pratiques n°5**\n",
    "\n",
    "---"
   ]
  },
  {
   "cell_type": "markdown",
   "metadata": {
    "id": "-z5M5M5J9pGs"
   },
   "source": [
    "**Importation des bibliothèques**"
   ]
  },
  {
   "cell_type": "code",
   "execution_count": 1,
   "metadata": {
    "id": "doczyHphqvOR"
   },
   "outputs": [],
   "source": [
    "import pandas as pd\n",
    "import numpy as np\n",
    "import matplotlib.pyplot as plt\n",
    "import seaborn as sns\n",
    "\n",
    "from sklearn.tree import DecisionTreeClassifier\n",
    "from sklearn.ensemble import RandomForestClassifier, VotingClassifier, StackingClassifier\n",
    "from sklearn.linear_model import LinearRegression,LogisticRegression\n",
    "\n",
    "from sklearn.preprocessing import KBinsDiscretizer,OneHotEncoder\n",
    "from sklearn.metrics import accuracy_score, roc_curve, auc\n",
    "from sklearn.model_selection import train_test_split, RandomizedSearchCV\n",
    "\n",
    "\n",
    "import warnings\n",
    "warnings.filterwarnings('ignore')"
   ]
  },
  {
   "cell_type": "markdown",
   "metadata": {},
   "source": []
  },
  {
   "cell_type": "code",
   "execution_count": 18,
   "metadata": {},
   "outputs": [
    {
     "name": "stdout",
     "output_type": "stream",
     "text": [
      "     Customer Id  YearOfObservation  Insured_Period  Residential  \\\n",
      "0         H13501               2012             1.0            1   \n",
      "1         H14962               2012             1.0            0   \n",
      "2         H17755               2013             1.0            1   \n",
      "3         H13369               2016             0.5            0   \n",
      "4         H12988               2012             1.0            0   \n",
      "...          ...                ...             ...          ...   \n",
      "5007      H13682               2013             1.0            0   \n",
      "5008      H18342               2012             0.5            0   \n",
      "5009      H16892               2015             1.0            1   \n",
      "5010      H18805               2012             0.5            0   \n",
      "5011      H18228               2013             1.0            1   \n",
      "\n",
      "     Building_Painted Building_Fenced Garden Settlement  Building Dimension  \\\n",
      "0                   N               V      V          U              1240.0   \n",
      "1                   N               V      V          U               900.0   \n",
      "2                   V               N      O          R              4984.0   \n",
      "3                   N               V      V          U               600.0   \n",
      "4                   N               V      V          U               900.0   \n",
      "...               ...             ...    ...        ...                 ...   \n",
      "5007                N               V      V          U               550.0   \n",
      "5008                V               N      O          R              1000.0   \n",
      "5009                V               N      O          R               480.0   \n",
      "5010                V               N      O          R               536.0   \n",
      "5011                V               V      V          U                 NaN   \n",
      "\n",
      "        Building_Type NumberOfWindows Geo_Code Claim  \n",
      "0         Wood-framed         without    75117   non  \n",
      "1     Non-combustible         without    62916   non  \n",
      "2     Non-combustible               4    31149   oui  \n",
      "3         Wood-framed         without     6012   oui  \n",
      "4     Non-combustible         without    57631   non  \n",
      "...               ...             ...      ...   ...  \n",
      "5007         Ordinary         without    33063   oui  \n",
      "5008   Fire-resistive               4    13004   non  \n",
      "5009         Ordinary               3    94059   non  \n",
      "5010   Fire-resistive               4    74243   non  \n",
      "5011      Wood-framed         without      NaN   non  \n",
      "\n",
      "[5012 rows x 13 columns]\n"
     ]
    }
   ],
   "source": [
    "df=pd.read_csv(\"train_Insurance.csv\")\n",
    "print(df)"
   ]
  },
  {
   "cell_type": "code",
   "execution_count": 5,
   "metadata": {},
   "outputs": [
    {
     "name": "stdout",
     "output_type": "stream",
     "text": [
      "<class 'pandas.core.frame.DataFrame'>\n",
      "RangeIndex: 5012 entries, 0 to 5011\n",
      "Data columns (total 13 columns):\n",
      " #   Column              Non-Null Count  Dtype  \n",
      "---  ------              --------------  -----  \n",
      " 0   Customer Id         5012 non-null   object \n",
      " 1   YearOfObservation   5012 non-null   int64  \n",
      " 2   Insured_Period      5012 non-null   float64\n",
      " 3   Residential         5012 non-null   int64  \n",
      " 4   Building_Painted    5012 non-null   object \n",
      " 5   Building_Fenced     5012 non-null   object \n",
      " 6   Garden              5008 non-null   object \n",
      " 7   Settlement          5012 non-null   object \n",
      " 8   Building Dimension  4935 non-null   float64\n",
      " 9   Building_Type       5012 non-null   object \n",
      " 10  NumberOfWindows     5012 non-null   object \n",
      " 11  Geo_Code            4939 non-null   object \n",
      " 12  Claim               5012 non-null   object \n",
      "dtypes: float64(2), int64(2), object(9)\n",
      "memory usage: 509.2+ KB\n"
     ]
    },
    {
     "data": {
      "text/html": [
       "<div>\n",
       "<style scoped>\n",
       "    .dataframe tbody tr th:only-of-type {\n",
       "        vertical-align: middle;\n",
       "    }\n",
       "\n",
       "    .dataframe tbody tr th {\n",
       "        vertical-align: top;\n",
       "    }\n",
       "\n",
       "    .dataframe thead th {\n",
       "        text-align: right;\n",
       "    }\n",
       "</style>\n",
       "<table border=\"1\" class=\"dataframe\">\n",
       "  <thead>\n",
       "    <tr style=\"text-align: right;\">\n",
       "      <th></th>\n",
       "      <th>YearOfObservation</th>\n",
       "      <th>Insured_Period</th>\n",
       "      <th>Residential</th>\n",
       "      <th>Building Dimension</th>\n",
       "    </tr>\n",
       "  </thead>\n",
       "  <tbody>\n",
       "    <tr>\n",
       "      <th>count</th>\n",
       "      <td>5012.000000</td>\n",
       "      <td>5012.000000</td>\n",
       "      <td>5012.000000</td>\n",
       "      <td>4935.000000</td>\n",
       "    </tr>\n",
       "    <tr>\n",
       "      <th>mean</th>\n",
       "      <td>2013.660215</td>\n",
       "      <td>0.869713</td>\n",
       "      <td>0.301077</td>\n",
       "      <td>1876.898683</td>\n",
       "    </tr>\n",
       "    <tr>\n",
       "      <th>std</th>\n",
       "      <td>1.383134</td>\n",
       "      <td>0.219496</td>\n",
       "      <td>0.458772</td>\n",
       "      <td>2267.277397</td>\n",
       "    </tr>\n",
       "    <tr>\n",
       "      <th>min</th>\n",
       "      <td>2012.000000</td>\n",
       "      <td>0.500000</td>\n",
       "      <td>0.000000</td>\n",
       "      <td>1.000000</td>\n",
       "    </tr>\n",
       "    <tr>\n",
       "      <th>25%</th>\n",
       "      <td>2012.000000</td>\n",
       "      <td>0.500000</td>\n",
       "      <td>0.000000</td>\n",
       "      <td>520.000000</td>\n",
       "    </tr>\n",
       "    <tr>\n",
       "      <th>50%</th>\n",
       "      <td>2013.000000</td>\n",
       "      <td>1.000000</td>\n",
       "      <td>0.000000</td>\n",
       "      <td>1067.000000</td>\n",
       "    </tr>\n",
       "    <tr>\n",
       "      <th>75%</th>\n",
       "      <td>2015.000000</td>\n",
       "      <td>1.000000</td>\n",
       "      <td>1.000000</td>\n",
       "      <td>2280.000000</td>\n",
       "    </tr>\n",
       "    <tr>\n",
       "      <th>max</th>\n",
       "      <td>2016.000000</td>\n",
       "      <td>1.000000</td>\n",
       "      <td>1.000000</td>\n",
       "      <td>20840.000000</td>\n",
       "    </tr>\n",
       "  </tbody>\n",
       "</table>\n",
       "</div>"
      ],
      "text/plain": [
       "       YearOfObservation  Insured_Period  Residential  Building Dimension\n",
       "count        5012.000000     5012.000000  5012.000000         4935.000000\n",
       "mean         2013.660215        0.869713     0.301077         1876.898683\n",
       "std             1.383134        0.219496     0.458772         2267.277397\n",
       "min          2012.000000        0.500000     0.000000            1.000000\n",
       "25%          2012.000000        0.500000     0.000000          520.000000\n",
       "50%          2013.000000        1.000000     0.000000         1067.000000\n",
       "75%          2015.000000        1.000000     1.000000         2280.000000\n",
       "max          2016.000000        1.000000     1.000000        20840.000000"
      ]
     },
     "execution_count": 5,
     "metadata": {},
     "output_type": "execute_result"
    }
   ],
   "source": [
    "df.info()\n",
    "df.describe()"
   ]
  },
  {
   "cell_type": "code",
   "execution_count": null,
   "metadata": {},
   "outputs": [
    {
     "data": {
      "image/png": "[encoded data removed]",
      "text/plain": [
       "<Figure size 1000x500 with 3 Axes>"
      ]
     },
     "metadata": {},
     "output_type": "display_data"
    }
   ],
   "source": [
    "features = ['YearOfObservation', 'Insured_Period', 'Residential']\n",
    "# Create count plots\n",
    "plt.figure(figsize=(10, 5))  # Adjust figure size to fit all subplots\n",
    "\n",
    "for i, feature in enumerate(features, start=1):\n",
    "    plt.subplot(1, 3, i)  # 1 row, 3 columns\n",
    "    sns.countplot(x=feature, data=df)\n",
    "    plt.title(f\"Count of {feature}\")\n",
    "    plt.xticks(rotation=45)  # Rotate x-axis labels for better readability (optional)\n",
    "plt.tight_layout()  # Adjust spacing between plots\n",
    "plt.show()"
   ]
  },
  {
   "cell_type": "code",
   "execution_count": 38,
   "metadata": {},
   "outputs": [
    {
     "data": {
      "text/plain": [
       "([<matplotlib.patches.Wedge at 0x18b0f465400>,\n",
       "  <matplotlib.patches.Wedge at 0x18b0f465340>],\n",
       " [Text(-0.7758647755919935, -0.7797652531342916, 'V'),\n",
       "  Text(0.7758647390885471, 0.7797652894551416, 'N')],\n",
       " [Text(-0.42319896850472366, -0.42532650170961356, '75.1%'),\n",
       "  Text(0.42319894859375295, 0.42532652152098627, '24.9%')])"
      ]
     },
     "execution_count": 38,
     "metadata": {},
     "output_type": "execute_result"
    },
    {
     "data": {
      "image/png": "[encoded data removed]",
      "text/plain": [
       "<Figure size 500x300 with 1 Axes>"
      ]
     },
     "metadata": {},
     "output_type": "display_data"
    }
   ],
   "source": [
    "plt.figure(figsize=(5, 3))\n",
    "painted=df['Building_Painted'].value_counts()\n",
    "labels=list(painted.index)\n",
    "colors = ['red', 'blue']\n",
    "plt.pie(painted, labels=labels,\n",
    "     colors=colors, autopct='%1.1f%%',\n",
    "                 startangle=90)"
   ]
  },
  {
   "cell_type": "code",
   "execution_count": 36,
   "metadata": {},
   "outputs": [
    {
     "data": {
      "image/png": "[encoded data removed]",
      "text/plain": [
       "<Figure size 1000x500 with 6 Axes>"
      ]
     },
     "metadata": {},
     "output_type": "display_data"
    }
   ],
   "source": [
    "# Example dataset (replace 'df' with your actual dataframe)\n",
    "# df = your_dataframe\n",
    "\n",
    "# Define pairs of x and y variables for three scatter plots\n",
    "scatter_pairs = [\n",
    "    ('Building_Fenced','Settlement'),\n",
    "    ('Garden', 'Settlement'),\n",
    "    ('Building_Fenced', 'Garden'),\n",
    "]\n",
    "\n",
    "# Pie chart features and configurations\n",
    "pie_features = [\n",
    "    'Building_Fenced',\n",
    "    'Settlement',\n",
    "    'Garden',\n",
    "]\n",
    "\n",
    "# Create combined plots\n",
    "plt.figure(figsize=(10, 5))  # Adjust figure size to fit all subplots\n",
    "\n",
    "\n",
    "\n",
    "# Add pie charts\n",
    "for i, feature in enumerate(pie_features, start=4):\n",
    "    plt.subplot(2, 3, i)  # Continue subplot numbering\n",
    "    feature_counts = df[feature].value_counts()\n",
    "    labels = list(feature_counts.index)\n",
    "    colors = ['red', 'blue', 'orange', 'purple'][:len(labels)]  # Adjust colors as needed\n",
    "    plt.pie(feature_counts, labels=labels, colors=colors, autopct='%1.1f%%', startangle=90)\n",
    "    plt.title(f\"Distribution of {feature}\")\n",
    "# Add scatter plots\n",
    "for i, (x, y) in enumerate(scatter_pairs, start=1):\n",
    "    plt.subplot(2, 3, i)  # 2 rows, 3 columns\n",
    "    sns.scatterplot(data=df, x=x, y=y)\n",
    "plt.tight_layout()  # Adjust spacing between plots\n",
    "plt.show()\n"
   ]
  },
  {
   "cell_type": "code",
   "execution_count": 45,
   "metadata": {},
   "outputs": [
    {
     "ename": "ValueError",
     "evalue": "Could not interpret value `Revenu` for `x`. An entry with this name does not appear in `data`.",
     "output_type": "error",
     "traceback": [
      "\u001b[1;31m---------------------------------------------------------------------------\u001b[0m",
      "\u001b[1;31mValueError\u001b[0m                                Traceback (most recent call last)",
      "Cell \u001b[1;32mIn[45], line 2\u001b[0m\n\u001b[0;32m      1\u001b[0m sns\u001b[38;5;241m.\u001b[39mkdeplot(df[\u001b[38;5;124m'\u001b[39m\u001b[38;5;124mBuilding Dimension\u001b[39m\u001b[38;5;124m'\u001b[39m],bw_method\u001b[38;5;241m=\u001b[39m\u001b[38;5;124m'\u001b[39m\u001b[38;5;124mscott\u001b[39m\u001b[38;5;124m'\u001b[39m,bw_adjust\u001b[38;5;241m=\u001b[39m\u001b[38;5;241m1\u001b[39m)\n\u001b[1;32m----> 2\u001b[0m \u001b[43msns\u001b[49m\u001b[38;5;241;43m.\u001b[39;49m\u001b[43mhistplot\u001b[49m\u001b[43m(\u001b[49m\u001b[43mx\u001b[49m\u001b[38;5;241;43m=\u001b[39;49m\u001b[38;5;124;43m\"\u001b[39;49m\u001b[38;5;124;43mRevenu\u001b[39;49m\u001b[38;5;124;43m\"\u001b[39;49m\u001b[43m,\u001b[49m\u001b[43m \u001b[49m\u001b[43mdata\u001b[49m\u001b[38;5;241;43m=\u001b[39;49m\u001b[43mdf\u001b[49m\u001b[43m,\u001b[49m\u001b[43mbins\u001b[49m\u001b[38;5;241;43m=\u001b[39;49m\u001b[38;5;241;43m3\u001b[39;49m\u001b[43m,\u001b[49m\u001b[43m \u001b[49m\u001b[43mkde\u001b[49m\u001b[38;5;241;43m=\u001b[39;49m\u001b[38;5;28;43;01mTrue\u001b[39;49;00m\u001b[43m,\u001b[49m\u001b[43m \u001b[49m\u001b[43mstat\u001b[49m\u001b[38;5;241;43m=\u001b[39;49m\u001b[38;5;124;43m'\u001b[39;49m\u001b[38;5;124;43mdensity\u001b[39;49m\u001b[38;5;124;43m'\u001b[39;49m\u001b[43m)\u001b[49m\n",
      "File \u001b[1;32mc:\\Users\\Admin\\Desktop\\Data Mining\\myvenv\\Lib\\site-packages\\seaborn\\distributions.py:1379\u001b[0m, in \u001b[0;36mhistplot\u001b[1;34m(data, x, y, hue, weights, stat, bins, binwidth, binrange, discrete, cumulative, common_bins, common_norm, multiple, element, fill, shrink, kde, kde_kws, line_kws, thresh, pthresh, pmax, cbar, cbar_ax, cbar_kws, palette, hue_order, hue_norm, color, log_scale, legend, ax, **kwargs)\u001b[0m\n\u001b[0;32m   1358\u001b[0m \u001b[38;5;28;01mdef\u001b[39;00m\u001b[38;5;250m \u001b[39m\u001b[38;5;21mhistplot\u001b[39m(\n\u001b[0;32m   1359\u001b[0m     data\u001b[38;5;241m=\u001b[39m\u001b[38;5;28;01mNone\u001b[39;00m, \u001b[38;5;241m*\u001b[39m,\n\u001b[0;32m   1360\u001b[0m     \u001b[38;5;66;03m# Vector variables\u001b[39;00m\n\u001b[1;32m   (...)\u001b[0m\n\u001b[0;32m   1376\u001b[0m     \u001b[38;5;241m*\u001b[39m\u001b[38;5;241m*\u001b[39mkwargs,\n\u001b[0;32m   1377\u001b[0m ):\n\u001b[1;32m-> 1379\u001b[0m     p \u001b[38;5;241m=\u001b[39m \u001b[43m_DistributionPlotter\u001b[49m\u001b[43m(\u001b[49m\n\u001b[0;32m   1380\u001b[0m \u001b[43m        \u001b[49m\u001b[43mdata\u001b[49m\u001b[38;5;241;43m=\u001b[39;49m\u001b[43mdata\u001b[49m\u001b[43m,\u001b[49m\n\u001b[0;32m   1381\u001b[0m \u001b[43m        \u001b[49m\u001b[43mvariables\u001b[49m\u001b[38;5;241;43m=\u001b[39;49m\u001b[38;5;28;43mdict\u001b[39;49m\u001b[43m(\u001b[49m\u001b[43mx\u001b[49m\u001b[38;5;241;43m=\u001b[39;49m\u001b[43mx\u001b[49m\u001b[43m,\u001b[49m\u001b[43m \u001b[49m\u001b[43my\u001b[49m\u001b[38;5;241;43m=\u001b[39;49m\u001b[43my\u001b[49m\u001b[43m,\u001b[49m\u001b[43m \u001b[49m\u001b[43mhue\u001b[49m\u001b[38;5;241;43m=\u001b[39;49m\u001b[43mhue\u001b[49m\u001b[43m,\u001b[49m\u001b[43m \u001b[49m\u001b[43mweights\u001b[49m\u001b[38;5;241;43m=\u001b[39;49m\u001b[43mweights\u001b[49m\u001b[43m)\u001b[49m\u001b[43m,\u001b[49m\n\u001b[0;32m   1382\u001b[0m \u001b[43m    \u001b[49m\u001b[43m)\u001b[49m\n\u001b[0;32m   1384\u001b[0m     p\u001b[38;5;241m.\u001b[39mmap_hue(palette\u001b[38;5;241m=\u001b[39mpalette, order\u001b[38;5;241m=\u001b[39mhue_order, norm\u001b[38;5;241m=\u001b[39mhue_norm)\n\u001b[0;32m   1386\u001b[0m     \u001b[38;5;28;01mif\u001b[39;00m ax \u001b[38;5;129;01mis\u001b[39;00m \u001b[38;5;28;01mNone\u001b[39;00m:\n",
      "File \u001b[1;32mc:\\Users\\Admin\\Desktop\\Data Mining\\myvenv\\Lib\\site-packages\\seaborn\\distributions.py:110\u001b[0m, in \u001b[0;36m_DistributionPlotter.__init__\u001b[1;34m(self, data, variables)\u001b[0m\n\u001b[0;32m    104\u001b[0m \u001b[38;5;28;01mdef\u001b[39;00m\u001b[38;5;250m \u001b[39m\u001b[38;5;21m__init__\u001b[39m(\n\u001b[0;32m    105\u001b[0m     \u001b[38;5;28mself\u001b[39m,\n\u001b[0;32m    106\u001b[0m     data\u001b[38;5;241m=\u001b[39m\u001b[38;5;28;01mNone\u001b[39;00m,\n\u001b[0;32m    107\u001b[0m     variables\u001b[38;5;241m=\u001b[39m{},\n\u001b[0;32m    108\u001b[0m ):\n\u001b[1;32m--> 110\u001b[0m     \u001b[38;5;28;43msuper\u001b[39;49m\u001b[43m(\u001b[49m\u001b[43m)\u001b[49m\u001b[38;5;241;43m.\u001b[39;49m\u001b[38;5;21;43m__init__\u001b[39;49m\u001b[43m(\u001b[49m\u001b[43mdata\u001b[49m\u001b[38;5;241;43m=\u001b[39;49m\u001b[43mdata\u001b[49m\u001b[43m,\u001b[49m\u001b[43m \u001b[49m\u001b[43mvariables\u001b[49m\u001b[38;5;241;43m=\u001b[39;49m\u001b[43mvariables\u001b[49m\u001b[43m)\u001b[49m\n",
      "File \u001b[1;32mc:\\Users\\Admin\\Desktop\\Data Mining\\myvenv\\Lib\\site-packages\\seaborn\\_base.py:634\u001b[0m, in \u001b[0;36mVectorPlotter.__init__\u001b[1;34m(self, data, variables)\u001b[0m\n\u001b[0;32m    629\u001b[0m \u001b[38;5;66;03m# var_ordered is relevant only for categorical axis variables, and may\u001b[39;00m\n\u001b[0;32m    630\u001b[0m \u001b[38;5;66;03m# be better handled by an internal axis information object that tracks\u001b[39;00m\n\u001b[0;32m    631\u001b[0m \u001b[38;5;66;03m# such information and is set up by the scale_* methods. The analogous\u001b[39;00m\n\u001b[0;32m    632\u001b[0m \u001b[38;5;66;03m# information for numeric axes would be information about log scales.\u001b[39;00m\n\u001b[0;32m    633\u001b[0m \u001b[38;5;28mself\u001b[39m\u001b[38;5;241m.\u001b[39m_var_ordered \u001b[38;5;241m=\u001b[39m {\u001b[38;5;124m\"\u001b[39m\u001b[38;5;124mx\u001b[39m\u001b[38;5;124m\"\u001b[39m: \u001b[38;5;28;01mFalse\u001b[39;00m, \u001b[38;5;124m\"\u001b[39m\u001b[38;5;124my\u001b[39m\u001b[38;5;124m\"\u001b[39m: \u001b[38;5;28;01mFalse\u001b[39;00m}  \u001b[38;5;66;03m# alt., used DefaultDict\u001b[39;00m\n\u001b[1;32m--> 634\u001b[0m \u001b[38;5;28;43mself\u001b[39;49m\u001b[38;5;241;43m.\u001b[39;49m\u001b[43massign_variables\u001b[49m\u001b[43m(\u001b[49m\u001b[43mdata\u001b[49m\u001b[43m,\u001b[49m\u001b[43m \u001b[49m\u001b[43mvariables\u001b[49m\u001b[43m)\u001b[49m\n\u001b[0;32m    636\u001b[0m \u001b[38;5;66;03m# TODO Lots of tests assume that these are called to initialize the\u001b[39;00m\n\u001b[0;32m    637\u001b[0m \u001b[38;5;66;03m# mappings to default values on class initialization. I'd prefer to\u001b[39;00m\n\u001b[0;32m    638\u001b[0m \u001b[38;5;66;03m# move away from that and only have a mapping when explicitly called.\u001b[39;00m\n\u001b[0;32m    639\u001b[0m \u001b[38;5;28;01mfor\u001b[39;00m var \u001b[38;5;129;01min\u001b[39;00m [\u001b[38;5;124m\"\u001b[39m\u001b[38;5;124mhue\u001b[39m\u001b[38;5;124m\"\u001b[39m, \u001b[38;5;124m\"\u001b[39m\u001b[38;5;124msize\u001b[39m\u001b[38;5;124m\"\u001b[39m, \u001b[38;5;124m\"\u001b[39m\u001b[38;5;124mstyle\u001b[39m\u001b[38;5;124m\"\u001b[39m]:\n",
      "File \u001b[1;32mc:\\Users\\Admin\\Desktop\\Data Mining\\myvenv\\Lib\\site-packages\\seaborn\\_base.py:679\u001b[0m, in \u001b[0;36mVectorPlotter.assign_variables\u001b[1;34m(self, data, variables)\u001b[0m\n\u001b[0;32m    674\u001b[0m \u001b[38;5;28;01melse\u001b[39;00m:\n\u001b[0;32m    675\u001b[0m     \u001b[38;5;66;03m# When dealing with long-form input, use the newer PlotData\u001b[39;00m\n\u001b[0;32m    676\u001b[0m     \u001b[38;5;66;03m# object (internal but introduced for the objects interface)\u001b[39;00m\n\u001b[0;32m    677\u001b[0m     \u001b[38;5;66;03m# to centralize / standardize data consumption logic.\u001b[39;00m\n\u001b[0;32m    678\u001b[0m     \u001b[38;5;28mself\u001b[39m\u001b[38;5;241m.\u001b[39minput_format \u001b[38;5;241m=\u001b[39m \u001b[38;5;124m\"\u001b[39m\u001b[38;5;124mlong\u001b[39m\u001b[38;5;124m\"\u001b[39m\n\u001b[1;32m--> 679\u001b[0m     plot_data \u001b[38;5;241m=\u001b[39m \u001b[43mPlotData\u001b[49m\u001b[43m(\u001b[49m\u001b[43mdata\u001b[49m\u001b[43m,\u001b[49m\u001b[43m \u001b[49m\u001b[43mvariables\u001b[49m\u001b[43m)\u001b[49m\n\u001b[0;32m    680\u001b[0m     frame \u001b[38;5;241m=\u001b[39m plot_data\u001b[38;5;241m.\u001b[39mframe\n\u001b[0;32m    681\u001b[0m     names \u001b[38;5;241m=\u001b[39m plot_data\u001b[38;5;241m.\u001b[39mnames\n",
      "File \u001b[1;32mc:\\Users\\Admin\\Desktop\\Data Mining\\myvenv\\Lib\\site-packages\\seaborn\\_core\\data.py:58\u001b[0m, in \u001b[0;36mPlotData.__init__\u001b[1;34m(self, data, variables)\u001b[0m\n\u001b[0;32m     51\u001b[0m \u001b[38;5;28;01mdef\u001b[39;00m\u001b[38;5;250m \u001b[39m\u001b[38;5;21m__init__\u001b[39m(\n\u001b[0;32m     52\u001b[0m     \u001b[38;5;28mself\u001b[39m,\n\u001b[0;32m     53\u001b[0m     data: DataSource,\n\u001b[0;32m     54\u001b[0m     variables: \u001b[38;5;28mdict\u001b[39m[\u001b[38;5;28mstr\u001b[39m, VariableSpec],\n\u001b[0;32m     55\u001b[0m ):\n\u001b[0;32m     57\u001b[0m     data \u001b[38;5;241m=\u001b[39m handle_data_source(data)\n\u001b[1;32m---> 58\u001b[0m     frame, names, ids \u001b[38;5;241m=\u001b[39m \u001b[38;5;28;43mself\u001b[39;49m\u001b[38;5;241;43m.\u001b[39;49m\u001b[43m_assign_variables\u001b[49m\u001b[43m(\u001b[49m\u001b[43mdata\u001b[49m\u001b[43m,\u001b[49m\u001b[43m \u001b[49m\u001b[43mvariables\u001b[49m\u001b[43m)\u001b[49m\n\u001b[0;32m     60\u001b[0m     \u001b[38;5;28mself\u001b[39m\u001b[38;5;241m.\u001b[39mframe \u001b[38;5;241m=\u001b[39m frame\n\u001b[0;32m     61\u001b[0m     \u001b[38;5;28mself\u001b[39m\u001b[38;5;241m.\u001b[39mnames \u001b[38;5;241m=\u001b[39m names\n",
      "File \u001b[1;32mc:\\Users\\Admin\\Desktop\\Data Mining\\myvenv\\Lib\\site-packages\\seaborn\\_core\\data.py:232\u001b[0m, in \u001b[0;36mPlotData._assign_variables\u001b[1;34m(self, data, variables)\u001b[0m\n\u001b[0;32m    230\u001b[0m     \u001b[38;5;28;01melse\u001b[39;00m:\n\u001b[0;32m    231\u001b[0m         err \u001b[38;5;241m+\u001b[39m\u001b[38;5;241m=\u001b[39m \u001b[38;5;124m\"\u001b[39m\u001b[38;5;124mAn entry with this name does not appear in `data`.\u001b[39m\u001b[38;5;124m\"\u001b[39m\n\u001b[1;32m--> 232\u001b[0m     \u001b[38;5;28;01mraise\u001b[39;00m \u001b[38;5;167;01mValueError\u001b[39;00m(err)\n\u001b[0;32m    234\u001b[0m \u001b[38;5;28;01melse\u001b[39;00m:\n\u001b[0;32m    235\u001b[0m \n\u001b[0;32m    236\u001b[0m     \u001b[38;5;66;03m# Otherwise, assume the value somehow represents data\u001b[39;00m\n\u001b[0;32m    237\u001b[0m \n\u001b[0;32m    238\u001b[0m     \u001b[38;5;66;03m# Ignore empty data structures\u001b[39;00m\n\u001b[0;32m    239\u001b[0m     \u001b[38;5;28;01mif\u001b[39;00m \u001b[38;5;28misinstance\u001b[39m(val, Sized) \u001b[38;5;129;01mand\u001b[39;00m \u001b[38;5;28mlen\u001b[39m(val) \u001b[38;5;241m==\u001b[39m \u001b[38;5;241m0\u001b[39m:\n",
      "\u001b[1;31mValueError\u001b[0m: Could not interpret value `Revenu` for `x`. An entry with this name does not appear in `data`."
     ]
    },
    {
     "data": {
      "image/png": "[encoded data removed]",
      "text/plain": [
       "<Figure size 640x480 with 1 Axes>"
      ]
     },
     "metadata": {},
     "output_type": "display_data"
    }
   ],
   "source": [
    "sns.kdeplot(df['Building Dimension'],bw_method='scott',bw_adjust=1)\n",
    "sns.histplot(x='Building Dimension', data=df,bins=3, kde=True, stat='density')"
   ]
  },
  {
   "cell_type": "code",
   "execution_count": 2,
   "metadata": {
    "colab": {
     "base_uri": "https://localhost:8080/"
    },
    "id": "Y6LhFJ4Eq8bu",
    "outputId": "7727b65e-af14-4149-85f6-399f8c53b0e3"
   },
   "outputs": [],
   "source": [
    "#Assemblage Google Drive dans Colaboratory\n",
    "#from google.colab import drive\n",
    "#drive.mount('/content/drive')"
   ]
  },
  {
   "cell_type": "markdown",
   "metadata": {
    "id": "CKdeZGAEuL0P"
   },
   "source": [
    "**1/** Charger le jeu de données **bodyPerformance.csv** dans un DataFrame $b\\_performance$, puis afficher ses $5$ premières lignes"
   ]
  },
  {
   "cell_type": "code",
   "execution_count": 3,
   "metadata": {
    "colab": {
     "base_uri": "https://localhost:8080/",
     "height": 269
    },
    "id": "RjnJw6IhtBWe",
    "outputId": "dea58158-fa32-4adc-a4af-9a20c8e7474c"
   },
   "outputs": [],
   "source": [
    "#b_performance=_________________________________\n"
   ]
  },
  {
   "cell_type": "markdown",
   "metadata": {
    "id": "nt_9AayxuNnG"
   },
   "source": [
    "**2/** Afficher le nombre de *valeurs manquantes* pour chaque attribut de $b\\_performance$"
   ]
  },
  {
   "cell_type": "code",
   "execution_count": null,
   "metadata": {
    "id": "R9L7rlyCtP6F"
   },
   "outputs": [],
   "source": []
  },
  {
   "cell_type": "markdown",
   "metadata": {
    "id": "6sIU9teTxGZV"
   },
   "source": [
    "**3/** Supprimer, à partir de $b\\_performance$, les observations ayant une *valeur manquante* dans l’attribut **sit_bend** ainsi que celles ayant <u>moins de $10$ valeurs non manquantes</u>"
   ]
  },
  {
   "cell_type": "code",
   "execution_count": 4,
   "metadata": {
    "colab": {
     "base_uri": "https://localhost:8080/"
    },
    "id": "GvA8bex4ucZx",
    "outputId": "a4658784-fdf5-43eb-d58f-f27152a5b191"
   },
   "outputs": [],
   "source": [
    "#______________________________________\n",
    "\n",
    "#b_performance.isnull().sum()"
   ]
  },
  {
   "cell_type": "markdown",
   "metadata": {
    "id": "401lrSe0xJpJ"
   },
   "source": [
    "**4/** Appliquer la <font color=\"red\">**Régression Linéaire**</font> pour déterminer la ou les valeur(s) manquante(s) de l’attribut **sit_ups** (*utiliser un extrait du jeu de donnée d'apprentissage qui comporte uniquement l’attribut* **sit_bend** *comme descripteur et l’attribut* **sit_ups** *comme classe* <u>pour toutes les observations n’ayant pas une valeur manquante</u>)"
   ]
  },
  {
   "cell_type": "code",
   "execution_count": null,
   "metadata": {
    "colab": {
     "base_uri": "https://localhost:8080/"
    },
    "id": "KgU5WM-WvvZB",
    "outputId": "bc2c00d1-c479-45f7-89d9-da4daaff6a50"
   },
   "outputs": [],
   "source": []
  },
  {
   "cell_type": "markdown",
   "metadata": {
    "id": "Kb7nkeq11TWC"
   },
   "source": [
    "**5/** Remplir les valeurs manquantes de l’attribut **diastolic** par <u>la valeur maximale du groupe de poids<u> **weight** (**Fat**, **Normal**, **Thin**) auquel appartient l’observation en cours"
   ]
  },
  {
   "cell_type": "code",
   "execution_count": 5,
   "metadata": {
    "colab": {
     "base_uri": "https://localhost:8080/"
    },
    "id": "E9m92Z3Vy6wr",
    "outputId": "cb7b34a1-d540-4514-8cab-149bda5c1673"
   },
   "outputs": [],
   "source": [
    "#group=b_performance.groupby([___________________])[_____________________________].max()\n",
    "\n",
    "#b_performance['diastolic'].fillna(____________________________________________________, inplace=True)\n",
    "\n",
    "#b_performance"
   ]
  },
  {
   "cell_type": "markdown",
   "metadata": {
    "id": "PZ0gPKUV3kFy"
   },
   "source": [
    "**6/** Présenter le **Kde** de l’attribut **Age** de $b\\_performance$. Ensuite, transformer l’attribut **Age** en $4$ intervalles, codés par $0$, $1$, $2$, et $3$, <font color=blue>**<u>en adoptant la technique de discrétisation la plus adéquate</u>**</font>"
   ]
  },
  {
   "cell_type": "code",
   "execution_count": 7,
   "metadata": {
    "colab": {
     "base_uri": "https://localhost:8080/",
     "height": 388
    },
    "id": "GCBSjyts3BIv",
    "outputId": "926bc9c5-565a-466b-fbad-99ed389788df"
   },
   "outputs": [],
   "source": [
    "#plt.figure(figsize=(6,4))\n",
    "#______________________________________________________\n",
    "\n",
    "#plt.show()\n"
   ]
  },
  {
   "cell_type": "code",
   "execution_count": 8,
   "metadata": {
    "id": "ZJ9GOepV5WLQ"
   },
   "outputs": [],
   "source": [
    "#EwD=KBinsDiscretizer(______________________________________________________)\n",
    "\n",
    "#b_performance['age']=____________________________________________________"
   ]
  },
  {
   "cell_type": "markdown",
   "metadata": {
    "id": "HsSSVAGF5xQZ"
   },
   "source": [
    "**7/** Transformer les $3$ valeurs de l’attribut **weight** en $3$ attributs *binaires* : $1$ et $0$. Les nouvelles colonnes doivent être ajouter dans les $3$ *premières positions* de $b\\_performance$ selon l’ordre suivant: **[' Normal', 'Thin', 'Fat']**"
   ]
  },
  {
   "cell_type": "code",
   "execution_count": null,
   "metadata": {
    "id": "zpnQUEJd5f_Y"
   },
   "outputs": [],
   "source": []
  },
  {
   "cell_type": "markdown",
   "metadata": {
    "id": "0yfZCuKn50qJ"
   },
   "source": [
    "**8/** Transformer $b\\_performance$ en $2$ tableaux ndarray $X$ et $Y$;  $X$  contient les valeurs des variables descripteurs, et $Y$ contient les valeurs de la classe. Ensuite, séparer les données en $2$ parties: $70\\%$ observations sélectionnées aléatoirement sans répétions pour l’apprentissage $(X\\_train$, $Y\\_train)$ , et les $30\\%$ restantes pour le test $(X\\_test$, $Y\\_test)$"
   ]
  },
  {
   "cell_type": "code",
   "execution_count": 9,
   "metadata": {
    "colab": {
     "base_uri": "https://localhost:8080/"
    },
    "id": "nGLcKY47511h",
    "outputId": "c59b30aa-6034-4690-e298-ce47bb36193c"
   },
   "outputs": [],
   "source": [
    "#X = b_performance.iloc[:,_______________].values\n",
    "#Y = b_performance.iloc[:, ___________________].values\n",
    "\n",
    "#X_train, X_test, Y_train, Y_test =________________________________________________________"
   ]
  },
  {
   "cell_type": "markdown",
   "metadata": {
    "id": "Xb_IBDt96Yxx"
   },
   "source": [
    "**9/** Appliquer la méthode <font color=\"red\">**SMOTE**</font> sur les données d’apprentissage $(X\\_train$, $Y\\_train)$ pour créer des <u>données synthétiques</u> $(X\\_train\\_r$, $Y\\_train\\_r)$ de la classe *minoritaire* **D**, de manière à obtenir le même nombre d’observations que la classe **C**"
   ]
  },
  {
   "cell_type": "code",
   "execution_count": 10,
   "metadata": {
    "colab": {
     "base_uri": "https://localhost:8080/"
    },
    "id": "ei-qpfaG6aKb",
    "outputId": "62ca780c-63f3-4134-e102-77d02896bae6"
   },
   "outputs": [],
   "source": [
    "#from imblearn.over_sampling import SMOTE\n",
    "\n",
    "#smote = SMOTE(_____________________________________________________)\n",
    "\n",
    "#_________________________________________________________________________\n"
   ]
  },
  {
   "cell_type": "markdown",
   "metadata": {
    "id": "BrH5NAJzV__V"
   },
   "source": [
    "**10/** Appliquer <font color=\"red\">**RandomSearchCV**</font> pour déterminer le <u>nombre optimal d’arbres</u> *(de 10 à 100 avec un pas de 10)* et la <u>profondeur adéquate de l'arbre</u> *(2, 3, 4, 5, 6)* pour un **RandomForestClassifier**, en évaluant les modèles avec la métrique **'f1_micro'** et une validation croisée à $5$-Folds sur $10$ itérations. <u>Indiquer le meilleur choix</u>"
   ]
  },
  {
   "cell_type": "code",
   "execution_count": null,
   "metadata": {
    "colab": {
     "base_uri": "https://localhost:8080/"
    },
    "id": "esR-nWHOV_KU",
    "outputId": "582f7188-6351-41bb-fc52-4aa12d63c0c3"
   },
   "outputs": [],
   "source": [
    "#____________________________________________________________\n"
   ]
  },
  {
   "cell_type": "markdown",
   "metadata": {
    "id": "a9g6O9Txm7UO"
   },
   "source": [
    "**11/** Appliquer un ***VotingClassifier*** sur trois modèles : $model1$,$model2$ et $model3$, où $model1$ est obtenu par **<font color=\"red\">RandomForestClassifier</font>** (q10), $model2$ est obtenu en appliquant **<font color=\"red\">DecisionTreeClassifier**</font> avec **max_depth=**$3$ et **max_features=\"sqrt\"**</font>, $model3$ est obtenu en appliquant **<font color=\"red\">LogisticRegression</font>** en gardant les hyperparamètres par défaut. Ensuite, <u>évaluer la performance du vote majoritaire sur les données d'apprentissage et de test en termes d’*accuracy*</u>"
   ]
  },
  {
   "cell_type": "code",
   "execution_count": null,
   "metadata": {
    "colab": {
     "base_uri": "https://localhost:8080/"
    },
    "id": "oT7LBfWeh4k7",
    "outputId": "7704ccfc-6cbb-47a2-d27e-f97cc08c1ed6"
   },
   "outputs": [],
   "source": [
    "#_____________________________________________________________\n",
    "\n",
    "\n",
    "#voting_clf = VotingClassifier(____________________________________________________________________ voting=______________________)\n",
    "\n",
    "#____________________________________"
   ]
  },
  {
   "cell_type": "markdown",
   "metadata": {
    "id": "2eH-uvF347lE"
   },
   "source": [
    "**12/** Créer un **méta-modèle** en appliquant **<font color=\"red\">LogisticRegression</font>**, nommé $stacking\\_clf$, qui utilise les scores de prédiction (**<font color=\"blue\">predict_proba</font>**) de chacun des modèles présentés dans (q11) avec une validation croisée à $3$-plis, <u>sans inclure les descripteurs originaux lors de l’apprentissage</u>. Ensuite, évaluer $stacking\\_clf$ sur les données d'apprentissage et de test en termes d’*accuracy*"
   ]
  },
  {
   "cell_type": "code",
   "execution_count": 13,
   "metadata": {
    "colab": {
     "base_uri": "https://localhost:8080/"
    },
    "id": "1ZNz0L4GxNDP",
    "outputId": "ef9eddae-6a5a-42d1-e219-9366477453a8"
   },
   "outputs": [],
   "source": [
    "#______________________________________________\n",
    "#stacking_clf = StackingClassifier(________________________________________)\n",
    "\n",
    "#___________________________________________________________________"
   ]
  },
  {
   "cell_type": "markdown",
   "metadata": {
    "id": "DWEeMmOQXl6c"
   },
   "source": [
    "**13/** Déterminer la mesure **AUC** obtenue par $stacking\\_clf$, en prenant en considération que **A** <u>représente\n",
    " la classe positive</u> et que <u>le reste correspond aux classes négatives</u>"
   ]
  },
  {
   "cell_type": "code",
   "execution_count": 14,
   "metadata": {
    "colab": {
     "base_uri": "https://localhost:8080/"
    },
    "id": "ZdyDNOm3XldN",
    "outputId": "a7543425-5eff-48f9-9fe4-c035506376e4"
   },
   "outputs": [],
   "source": [
    "#_________________________________________________________\n"
   ]
  }
 ],
 "metadata": {
  "colab": {
   "provenance": []
  },
  "kernelspec": {
   "display_name": "myvenv",
   "language": "python",
   "name": "python3"
  },
  "language_info": {
   "codemirror_mode": {
    "name": "ipython",
    "version": 3
   },
   "file_extension": ".py",
   "mimetype": "text/x-python",
   "name": "python",
   "nbconvert_exporter": "python",
   "pygments_lexer": "ipython3",
   "version": "3.12.8"
  }
 },
 "nbformat": 4,
 "nbformat_minor": 0
}
